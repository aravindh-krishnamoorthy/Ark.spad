{
 "cells": [
  {
   "cell_type": "code",
   "execution_count": 30,
   "id": "bdbf6cf2-4c40-4838-ad22-ff05b0942778",
   "metadata": {},
   "outputs": [
    {
     "name": "stderr",
     "output_type": "stream",
     "text": [
      "++\n",
      "++ Identity matrix\n",
      "++\n",
      "eye(n) == diagonalMatrix [1 for i in 1..n]\n",
      "Compiled code for eye has been cleared.\n",
      "Compiled code for eigvals has been cleared.\n",
      "Compiled code for svdvals has been cleared.\n",
      " 1 old definition(s) deleted for function or rule eye \n"
     ]
    },
    {
     "data": {
      "text/html": [
       "<div style=\"text-align:right;\"><sub><a href=\"https://fricas.github.io/api/Void.html\" target=\"_blank\" style=\"color:blue;text-decoration:none;\">Void</a></sub></div>"
      ]
     },
     "execution_count": 52,
     "metadata": {},
     "output_type": "execute_result"
    },
    {
     "name": "stderr",
     "output_type": "stream",
     "text": [
      "eye(m,n) == eye(max(m,n))(1..m,1..n)\n",
      " 1 old definition(s) deleted for function or rule eye \n"
     ]
    },
    {
     "data": {
      "text/html": [
       "<div style=\"text-align:right;\"><sub><a href=\"https://fricas.github.io/api/Void.html\" target=\"_blank\" style=\"color:blue;text-decoration:none;\">Void</a></sub></div>"
      ]
     },
     "execution_count": 53,
     "metadata": {},
     "output_type": "execute_result"
    },
    {
     "name": "stderr",
     "output_type": "stream",
     "text": [
      "++\n",
      "++ Zeros matrix\n",
      "++\n",
      "zeros(n) == matrix [[0 for j in 1..n] for i in 1..n]\n",
      "Compiled code for zeros has been cleared.\n",
      " 1 old definition(s) deleted for function or rule zeros \n"
     ]
    },
    {
     "data": {
      "text/html": [
       "<div style=\"text-align:right;\"><sub><a href=\"https://fricas.github.io/api/Void.html\" target=\"_blank\" style=\"color:blue;text-decoration:none;\">Void</a></sub></div>"
      ]
     },
     "execution_count": 54,
     "metadata": {},
     "output_type": "execute_result"
    },
    {
     "name": "stderr",
     "output_type": "stream",
     "text": [
      "zeros(m,n) == zeros(max(m,n))(1..m,1..n)\n",
      " 1 old definition(s) deleted for function or rule zeros \n"
     ]
    },
    {
     "data": {
      "text/html": [
       "<div style=\"text-align:right;\"><sub><a href=\"https://fricas.github.io/api/Void.html\" target=\"_blank\" style=\"color:blue;text-decoration:none;\">Void</a></sub></div>"
      ]
     },
     "execution_count": 55,
     "metadata": {},
     "output_type": "execute_result"
    },
    {
     "name": "stderr",
     "output_type": "stream",
     "text": [
      "++\n",
      "++ Ones matrix\n",
      "++\n",
      "ones(n) == matrix [[1 for j in 1..n] for i in 1..n]\n",
      "Compiled code for ones has been cleared.\n",
      " 1 old definition(s) deleted for function or rule ones \n"
     ]
    },
    {
     "data": {
      "text/html": [
       "<div style=\"text-align:right;\"><sub><a href=\"https://fricas.github.io/api/Void.html\" target=\"_blank\" style=\"color:blue;text-decoration:none;\">Void</a></sub></div>"
      ]
     },
     "execution_count": 56,
     "metadata": {},
     "output_type": "execute_result"
    },
    {
     "name": "stderr",
     "output_type": "stream",
     "text": [
      "ones(m,n) == ones(max(m,n))(1..m,1..n)\n",
      " 1 old definition(s) deleted for function or rule ones \n"
     ]
    },
    {
     "data": {
      "text/html": [
       "<div style=\"text-align:right;\"><sub><a href=\"https://fricas.github.io/api/Void.html\" target=\"_blank\" style=\"color:blue;text-decoration:none;\">Void</a></sub></div>"
      ]
     },
     "execution_count": 57,
     "metadata": {},
     "output_type": "execute_result"
    },
    {
     "name": "stderr",
     "output_type": "stream",
     "text": [
      "++\n",
      "++ Conjugate transpose\n",
      "++\n",
      "ctranspose(X) ==\n",
      "    _Y := copy(X)\n",
      "    for n in rowSlice(_Y) repeat for m in colSlice(_Y) repeat _Y(n,m) := conjugate(_Y(m,n))\n",
      "    _Y\n",
      "Compiled code for ctranspose has been cleared.\n",
      " 1 old definition(s) deleted for function or rule ctranspose \n"
     ]
    },
    {
     "data": {
      "text/html": [
       "<div style=\"text-align:right;\"><sub><a href=\"https://fricas.github.io/api/Void.html\" target=\"_blank\" style=\"color:blue;text-decoration:none;\">Void</a></sub></div>"
      ]
     },
     "execution_count": 58,
     "metadata": {},
     "output_type": "execute_result"
    },
    {
     "name": "stderr",
     "output_type": "stream",
     "text": [
      "++\n",
      "++ Singular values\n",
      "++\n",
      "svdvals(X) == map(sqrt, zerosOf(determinant(X*ctranspose(X) - _e*eye(nrows(X))), _e))\n",
      " 1 old definition(s) deleted for function or rule svdvals \n"
     ]
    },
    {
     "data": {
      "text/html": [
       "<div style=\"text-align:right;\"><sub><a href=\"https://fricas.github.io/api/Void.html\" target=\"_blank\" style=\"color:blue;text-decoration:none;\">Void</a></sub></div>"
      ]
     },
     "execution_count": 59,
     "metadata": {},
     "output_type": "execute_result"
    },
    {
     "name": "stderr",
     "output_type": "stream",
     "text": [
      "++\n",
      "++ Eigenvalues\n",
      "++\n",
      "eigvals(X) == zerosOf(determinant(X - _e*eye(nrows(X))), _e)\n",
      " 1 old definition(s) deleted for function or rule eigvals \n"
     ]
    },
    {
     "data": {
      "text/html": [
       "<div style=\"text-align:right;\"><sub><a href=\"https://fricas.github.io/api/Void.html\" target=\"_blank\" style=\"color:blue;text-decoration:none;\">Void</a></sub></div>"
      ]
     },
     "execution_count": 60,
     "metadata": {},
     "output_type": "execute_result"
    }
   ],
   "source": [
    ")set message type off\n",
    ")set output algebra off\n",
    ")set output tex on\n",
    ")set message type on\n",
    ")read ../ArkMatrix.input"
   ]
  },
  {
   "cell_type": "markdown",
   "id": "7fa8bc2f-9291-42c3-ae63-6009e9f58257",
   "metadata": {},
   "source": [
    "# Variables"
   ]
  },
  {
   "cell_type": "code",
   "execution_count": 31,
   "id": "dcb69439-6b0d-4160-b4f2-af21df5832b5",
   "metadata": {},
   "outputs": [
    {
     "data": {
      "text/html": [
       "<div style=\"text-align:right;\"><sub><a href=\"https://fricas.github.io/api/Void.html\" target=\"_blank\" style=\"color:blue;text-decoration:none;\">Void</a></sub></div>"
      ]
     },
     "execution_count": 61,
     "metadata": {},
     "output_type": "execute_result"
    },
    {
     "data": {
      "text/html": [
       "<div style=\"text-align:right;\"><sub><a href=\"https://fricas.github.io/api/Void.html\" target=\"_blank\" style=\"color:blue;text-decoration:none;\">Void</a></sub></div>"
      ]
     },
     "execution_count": 62,
     "metadata": {},
     "output_type": "execute_result"
    }
   ],
   "source": [
    "d : Expression(Integer)\n",
    "t : Expression(Integer)"
   ]
  },
  {
   "cell_type": "markdown",
   "id": "d10b451b-91c3-4b00-9717-944c867fe23e",
   "metadata": {},
   "source": [
    "# Matrix"
   ]
  },
  {
   "cell_type": "code",
   "execution_count": 32,
   "id": "904d6ead-568f-413e-ae30-ed8cacc13648",
   "metadata": {},
   "outputs": [
    {
     "data": {
      "text/latex": [
       "$$\\def\\sp{^}\\def\\sb{_}\\def\\leqno(#1){}\\def\\erf\\{\\mathrm{erf}}\\def\\sinh{\\mathrm{sinh}}\\def\\zag#1#2{{{ \\left.{#1}\\right|}\\over{\\left|{#2}\\right.}}}\n",
       "\\left[\n",
       "\\begin{array}{cc}\n",
       "d & t \\\\ \n",
       "t & d \n",
       "\\end{array}\n",
       "\\right]\n",
       "\\leqno(62)\n",
       "$$\n"
      ]
     },
     "execution_count": 63,
     "metadata": {},
     "output_type": "execute_result"
    },
    {
     "data": {
      "text/html": [
       "<div style=\"text-align:right;\"><sub><a href=\"https://fricas.github.io/api/Matrix.html\" target=\"_blank\" style=\"color:blue;text-decoration:none;\">Matrix</a>(<a href=\"https://fricas.github.io/api/Expression.html\" target=\"_blank\" style=\"color:blue;text-decoration:none;\">Expression</a>(<a href=\"https://fricas.github.io/api/Integer.html\" target=\"_blank\" style=\"color:blue;text-decoration:none;\">Integer</a>))</sub></div>"
      ]
     },
     "metadata": {},
     "output_type": "display_data"
    }
   ],
   "source": [
    "A := matrix [[d,t], [t,d]]"
   ]
  },
  {
   "cell_type": "markdown",
   "id": "597dc0e9-8615-4392-80dc-d01e34b682de",
   "metadata": {},
   "source": [
    "# Operations"
   ]
  },
  {
   "cell_type": "code",
   "execution_count": 33,
   "id": "e8ad8026-d432-4c0b-8ac9-ac67688a5297",
   "metadata": {},
   "outputs": [
    {
     "name": "stderr",
     "output_type": "stream",
     "text": [
      "Compiling function eye with type Integer -> Matrix(Integer) \n"
     ]
    },
    {
     "data": {
      "text/latex": [
       "$$\\def\\sp{^}\\def\\sb{_}\\def\\leqno(#1){}\\def\\erf\\{\\mathrm{erf}}\\def\\sinh{\\mathrm{sinh}}\\def\\zag#1#2{{{ \\left.{#1}\\right|}\\over{\\left|{#2}\\right.}}}\n",
       "\\left[\n",
       "\\begin{array}{cc}\n",
       "1 & 0 \\\\ \n",
       "0 & 1 \n",
       "\\end{array}\n",
       "\\right]\n",
       "\\leqno(63)\n",
       "$$\n"
      ]
     },
     "execution_count": 64,
     "metadata": {},
     "output_type": "execute_result"
    },
    {
     "data": {
      "text/html": [
       "<div style=\"text-align:right;\"><sub><a href=\"https://fricas.github.io/api/Matrix.html\" target=\"_blank\" style=\"color:blue;text-decoration:none;\">Matrix</a>(<a href=\"https://fricas.github.io/api/Integer.html\" target=\"_blank\" style=\"color:blue;text-decoration:none;\">Integer</a>)</sub></div>"
      ]
     },
     "metadata": {},
     "output_type": "display_data"
    }
   ],
   "source": [
    "eye(2)"
   ]
  },
  {
   "cell_type": "code",
   "execution_count": 34,
   "id": "84c277f9-7c45-48d5-92de-98aa29b1c630",
   "metadata": {},
   "outputs": [
    {
     "name": "stderr",
     "output_type": "stream",
     "text": [
      "Compiling function eye with type (Integer, Integer) -> Matrix(Integer) \n"
     ]
    },
    {
     "data": {
      "text/latex": [
       "$$\\def\\sp{^}\\def\\sb{_}\\def\\leqno(#1){}\\def\\erf\\{\\mathrm{erf}}\\def\\sinh{\\mathrm{sinh}}\\def\\zag#1#2{{{ \\left.{#1}\\right|}\\over{\\left|{#2}\\right.}}}\n",
       "\\left[\n",
       "\\begin{array}{cc}\n",
       "1 & 0 \\\\ \n",
       "0 & 1 \\\\ \n",
       "0 & 0 \\\\ \n",
       "0 & 0 \n",
       "\\end{array}\n",
       "\\right]\n",
       "\\leqno(64)\n",
       "$$\n"
      ]
     },
     "execution_count": 65,
     "metadata": {},
     "output_type": "execute_result"
    },
    {
     "data": {
      "text/html": [
       "<div style=\"text-align:right;\"><sub><a href=\"https://fricas.github.io/api/Matrix.html\" target=\"_blank\" style=\"color:blue;text-decoration:none;\">Matrix</a>(<a href=\"https://fricas.github.io/api/Integer.html\" target=\"_blank\" style=\"color:blue;text-decoration:none;\">Integer</a>)</sub></div>"
      ]
     },
     "metadata": {},
     "output_type": "display_data"
    }
   ],
   "source": [
    "eye(4,2)"
   ]
  },
  {
   "cell_type": "code",
   "execution_count": 35,
   "id": "3884f1ed-d096-4993-bed5-6e0a2a38cead",
   "metadata": {},
   "outputs": [
    {
     "name": "stderr",
     "output_type": "stream",
     "text": [
      "Compiling function zeros with type Integer -> Matrix(NonNegativeInteger) \n"
     ]
    },
    {
     "data": {
      "text/latex": [
       "$$\\def\\sp{^}\\def\\sb{_}\\def\\leqno(#1){}\\def\\erf\\{\\mathrm{erf}}\\def\\sinh{\\mathrm{sinh}}\\def\\zag#1#2{{{ \\left.{#1}\\right|}\\over{\\left|{#2}\\right.}}}\n",
       "\\left[\n",
       "\\begin{array}{ccc}\n",
       "0 & 0 & 0 \\\\ \n",
       "0 & 0 & 0 \\\\ \n",
       "0 & 0 & 0 \n",
       "\\end{array}\n",
       "\\right]\n",
       "\\leqno(65)\n",
       "$$\n"
      ]
     },
     "execution_count": 66,
     "metadata": {},
     "output_type": "execute_result"
    },
    {
     "data": {
      "text/html": [
       "<div style=\"text-align:right;\"><sub><a href=\"https://fricas.github.io/api/Matrix.html\" target=\"_blank\" style=\"color:blue;text-decoration:none;\">Matrix</a>(<a href=\"https://fricas.github.io/api/NonNegativeInteger.html\" target=\"_blank\" style=\"color:blue;text-decoration:none;\">NonNegativeInteger</a>)</sub></div>"
      ]
     },
     "metadata": {},
     "output_type": "display_data"
    }
   ],
   "source": [
    "zeros(3)"
   ]
  },
  {
   "cell_type": "code",
   "execution_count": 36,
   "id": "1d6f72bc-ea28-434c-93fe-f7a3d81db923",
   "metadata": {},
   "outputs": [
    {
     "name": "stderr",
     "output_type": "stream",
     "text": [
      "Compiling function zeros with type (Integer, Integer) -> Matrix(\n",
      "NonNegativeInteger) \n"
     ]
    },
    {
     "data": {
      "text/latex": [
       "$$\\def\\sp{^}\\def\\sb{_}\\def\\leqno(#1){}\\def\\erf\\{\\mathrm{erf}}\\def\\sinh{\\mathrm{sinh}}\\def\\zag#1#2{{{ \\left.{#1}\\right|}\\over{\\left|{#2}\\right.}}}\n",
       "\\left[\n",
       "\\begin{array}{cccc}\n",
       "0 & 0 & 0 & 0 \\\\ \n",
       "0 & 0 & 0 & 0 \\\\ \n",
       "0 & 0 & 0 & 0 \n",
       "\\end{array}\n",
       "\\right]\n",
       "\\leqno(66)\n",
       "$$\n"
      ]
     },
     "execution_count": 67,
     "metadata": {},
     "output_type": "execute_result"
    },
    {
     "data": {
      "text/html": [
       "<div style=\"text-align:right;\"><sub><a href=\"https://fricas.github.io/api/Matrix.html\" target=\"_blank\" style=\"color:blue;text-decoration:none;\">Matrix</a>(<a href=\"https://fricas.github.io/api/NonNegativeInteger.html\" target=\"_blank\" style=\"color:blue;text-decoration:none;\">NonNegativeInteger</a>)</sub></div>"
      ]
     },
     "metadata": {},
     "output_type": "display_data"
    }
   ],
   "source": [
    "zeros(3,4)"
   ]
  },
  {
   "cell_type": "code",
   "execution_count": 37,
   "id": "c69ccb53-91bb-4ddd-a5f9-55c4e5d5fb6a",
   "metadata": {},
   "outputs": [
    {
     "name": "stderr",
     "output_type": "stream",
     "text": [
      "Compiling function ones with type Integer -> Matrix(Integer) \n"
     ]
    },
    {
     "data": {
      "text/latex": [
       "$$\\def\\sp{^}\\def\\sb{_}\\def\\leqno(#1){}\\def\\erf\\{\\mathrm{erf}}\\def\\sinh{\\mathrm{sinh}}\\def\\zag#1#2{{{ \\left.{#1}\\right|}\\over{\\left|{#2}\\right.}}}\n",
       "\\left[\n",
       "\\begin{array}{cccc}\n",
       "1 & 1 & 1 & 1 \\\\ \n",
       "1 & 1 & 1 & 1 \\\\ \n",
       "1 & 1 & 1 & 1 \\\\ \n",
       "1 & 1 & 1 & 1 \n",
       "\\end{array}\n",
       "\\right]\n",
       "\\leqno(67)\n",
       "$$\n"
      ]
     },
     "execution_count": 68,
     "metadata": {},
     "output_type": "execute_result"
    },
    {
     "data": {
      "text/html": [
       "<div style=\"text-align:right;\"><sub><a href=\"https://fricas.github.io/api/Matrix.html\" target=\"_blank\" style=\"color:blue;text-decoration:none;\">Matrix</a>(<a href=\"https://fricas.github.io/api/Integer.html\" target=\"_blank\" style=\"color:blue;text-decoration:none;\">Integer</a>)</sub></div>"
      ]
     },
     "metadata": {},
     "output_type": "display_data"
    }
   ],
   "source": [
    "ones(4)"
   ]
  },
  {
   "cell_type": "code",
   "execution_count": 38,
   "id": "618d5722-1b57-4b7a-a189-ddb077e686d2",
   "metadata": {},
   "outputs": [
    {
     "name": "stderr",
     "output_type": "stream",
     "text": [
      "Compiling function ones with type (Integer, Integer) -> Matrix(Integer) \n"
     ]
    },
    {
     "data": {
      "text/latex": [
       "$$\\def\\sp{^}\\def\\sb{_}\\def\\leqno(#1){}\\def\\erf\\{\\mathrm{erf}}\\def\\sinh{\\mathrm{sinh}}\\def\\zag#1#2{{{ \\left.{#1}\\right|}\\over{\\left|{#2}\\right.}}}\n",
       "\\left[\n",
       "\\begin{array}{cc}\n",
       "1 & 1 \\\\ \n",
       "1 & 1 \n",
       "\\end{array}\n",
       "\\right]\n",
       "\\leqno(68)\n",
       "$$\n"
      ]
     },
     "execution_count": 69,
     "metadata": {},
     "output_type": "execute_result"
    },
    {
     "data": {
      "text/html": [
       "<div style=\"text-align:right;\"><sub><a href=\"https://fricas.github.io/api/Matrix.html\" target=\"_blank\" style=\"color:blue;text-decoration:none;\">Matrix</a>(<a href=\"https://fricas.github.io/api/Integer.html\" target=\"_blank\" style=\"color:blue;text-decoration:none;\">Integer</a>)</sub></div>"
      ]
     },
     "metadata": {},
     "output_type": "display_data"
    }
   ],
   "source": [
    "ones(2,2)"
   ]
  },
  {
   "cell_type": "code",
   "execution_count": 39,
   "id": "ca5e3e3f-353f-437e-a434-09ba2a2363b9",
   "metadata": {},
   "outputs": [
    {
     "name": "stderr",
     "output_type": "stream",
     "text": [
      "Compiling function ctranspose with type Matrix(Expression(Integer)) -> Matrix\n",
      "(Expression(Integer)) \n"
     ]
    },
    {
     "data": {
      "text/latex": [
       "$$\\def\\sp{^}\\def\\sb{_}\\def\\leqno(#1){}\\def\\erf\\{\\mathrm{erf}}\\def\\sinh{\\mathrm{sinh}}\\def\\zag#1#2{{{ \\left.{#1}\\right|}\\over{\\left|{#2}\\right.}}}\n",
       "\\left[\n",
       "\\begin{array}{cc}\n",
       "{\\overline d} & {\\overline t} \\\\ \n",
       "t & {\\overline d} \n",
       "\\end{array}\n",
       "\\right]\n",
       "\\leqno(69)\n",
       "$$\n"
      ]
     },
     "execution_count": 70,
     "metadata": {},
     "output_type": "execute_result"
    },
    {
     "data": {
      "text/html": [
       "<div style=\"text-align:right;\"><sub><a href=\"https://fricas.github.io/api/Matrix.html\" target=\"_blank\" style=\"color:blue;text-decoration:none;\">Matrix</a>(<a href=\"https://fricas.github.io/api/Expression.html\" target=\"_blank\" style=\"color:blue;text-decoration:none;\">Expression</a>(<a href=\"https://fricas.github.io/api/Integer.html\" target=\"_blank\" style=\"color:blue;text-decoration:none;\">Integer</a>))</sub></div>"
      ]
     },
     "metadata": {},
     "output_type": "display_data"
    }
   ],
   "source": [
    "ctranspose(A)"
   ]
  },
  {
   "cell_type": "code",
   "execution_count": 40,
   "id": "4e4b3c0f-5bfe-45b3-9095-7b15fef234f1",
   "metadata": {},
   "outputs": [
    {
     "name": "stderr",
     "output_type": "stream",
     "text": [
      "Compiling function eigvals with type Matrix(Expression(Integer)) -> List(\n",
      "Expression(Integer)) \n"
     ]
    },
    {
     "data": {
      "text/latex": [
       "$$\\def\\sp{^}\\def\\sb{_}\\def\\leqno(#1){}\\def\\erf\\{\\mathrm{erf}}\\def\\sinh{\\mathrm{sinh}}\\def\\zag#1#2{{{ \\left.{#1}\\right|}\\over{\\left|{#2}\\right.}}}\n",
       "\\left[\n",
       "{\\frac{{{\\sqrt {{4 \\  {{t} \\sp {2}}}}}+{2 \\  d}}}{2}}, \\: {\\frac{{-{\\sqrt {{4 \n",
       "\\  {{t} \\sp {2}}}}}+{2 \\  d}}}{2}} \n",
       "\\right]\n",
       "\\leqno(70)\n",
       "$$\n"
      ]
     },
     "execution_count": 71,
     "metadata": {},
     "output_type": "execute_result"
    },
    {
     "data": {
      "text/html": [
       "<div style=\"text-align:right;\"><sub><a href=\"https://fricas.github.io/api/List.html\" target=\"_blank\" style=\"color:blue;text-decoration:none;\">List</a>(<a href=\"https://fricas.github.io/api/Expression.html\" target=\"_blank\" style=\"color:blue;text-decoration:none;\">Expression</a>(<a href=\"https://fricas.github.io/api/Integer.html\" target=\"_blank\" style=\"color:blue;text-decoration:none;\">Integer</a>))</sub></div>"
      ]
     },
     "metadata": {},
     "output_type": "display_data"
    }
   ],
   "source": [
    "eigvals(A)"
   ]
  },
  {
   "cell_type": "code",
   "execution_count": 41,
   "id": "de7aec53-6f75-4527-9537-0bd4548365e0",
   "metadata": {},
   "outputs": [
    {
     "name": "stderr",
     "output_type": "stream",
     "text": [
      "Compiling function svdvals with type Matrix(Expression(Integer)) -> List(\n",
      "Expression(Integer)) \n"
     ]
    },
    {
     "data": {
      "text/latex": [
       "$$\\def\\sp{^}\\def\\sb{_}\\def\\leqno(#1){}\\def\\erf\\{\\mathrm{erf}}\\def\\sinh{\\mathrm{sinh}}\\def\\zag#1#2{{{ \\left.{#1}\\right|}\\over{\\left|{#2}\\right.}}}\n",
       "\\left[\n",
       "{\\sqrt {{\\frac{{{\\sqrt {{{{{t} \\sp {2}} \\  {{{\\overline t}} \\sp \n",
       "{2}}}+{{\\left( {4 \\  d \\  t \\  {\\overline d}} -{2 \\  {{t} \\sp {3}}}+{4 \\  \n",
       "{{d} \\sp {2}} \\  t} \n",
       "\\right)}\n",
       "\\  {\\overline t}}+{4 \\  {{t} \\sp {2}} \\  {{{\\overline d}} \\sp {2}}}+{4 \\  d \\  \n",
       "{{t} \\sp {2}} \\  {\\overline d}}+{{t} \\sp {4}}}}}+{t \\  {\\overline t}}+{2 \\  d \n",
       "\\  {\\overline d}}+{{t} \\sp {2}}}}{2}}}}, \\: {\\sqrt {{\\frac{{-{\\sqrt {{{{{t} \n",
       "\\sp {2}} \\  {{{\\overline t}} \\sp {2}}}+{{\\left( {4 \\  d \\  t \\  {\\overline \n",
       "d}} -{2 \\  {{t} \\sp {3}}}+{4 \\  {{d} \\sp {2}} \\  t} \n",
       "\\right)}\n",
       "\\  {\\overline t}}+{4 \\  {{t} \\sp {2}} \\  {{{\\overline d}} \\sp {2}}}+{4 \\  d \\  \n",
       "{{t} \\sp {2}} \\  {\\overline d}}+{{t} \\sp {4}}}}}+{t \\  {\\overline t}}+{2 \\  d \n",
       "\\  {\\overline d}}+{{t} \\sp {2}}}}{2}}}} \n",
       "\\right]\n",
       "\\leqno(71)\n",
       "$$\n"
      ]
     },
     "execution_count": 72,
     "metadata": {},
     "output_type": "execute_result"
    },
    {
     "data": {
      "text/html": [
       "<div style=\"text-align:right;\"><sub><a href=\"https://fricas.github.io/api/List.html\" target=\"_blank\" style=\"color:blue;text-decoration:none;\">List</a>(<a href=\"https://fricas.github.io/api/Expression.html\" target=\"_blank\" style=\"color:blue;text-decoration:none;\">Expression</a>(<a href=\"https://fricas.github.io/api/Integer.html\" target=\"_blank\" style=\"color:blue;text-decoration:none;\">Integer</a>))</sub></div>"
      ]
     },
     "metadata": {},
     "output_type": "display_data"
    }
   ],
   "source": [
    "svdvals(A)"
   ]
  }
 ],
 "metadata": {
  "kernelspec": {
   "display_name": "FriCAS",
   "language": "spad",
   "name": "jfricas"
  },
  "language_info": {
   "file_extension": ".input",
   "mimetype": "text/plain",
   "name": "spad"
  }
 },
 "nbformat": 4,
 "nbformat_minor": 5
}
